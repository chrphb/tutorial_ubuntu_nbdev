{
 "cells": [
  {
   "cell_type": "markdown",
   "metadata": {},
   "source": [
    "# Tutorial: How to set-up a new isolated nbdev development environment in Ubuntu\n",
    "\n",
    "> A tutorial on how to set-up a new isolated Ubuntu nbdev environment with chroot and python virtual environment."
   ]
  },
  {
   "cell_type": "markdown",
   "metadata": {},
   "source": [
    "In this tutorial, you will install a clean isolated development environment for python, Jupyter notebook and [nbdev](https://nbdev.fast.ai/).\n",
    "\n",
    "You will use many powerful features such as: linux chroot, python virtual environment, Jupyter notebook and nbdev."
   ]
  },
  {
   "cell_type": "markdown",
   "metadata": {},
   "source": [
    "## Prerequisites"
   ]
  },
  {
   "cell_type": "markdown",
   "metadata": {},
   "source": [
    "You need a computer running the latest version of Ubuntu. This tutorial is written for Ubuntu version 22, named *Jammy*. Although it is recommended to use the same version, most of the tutorial can be followed with other versions of Ubuntu.\n",
    "\n",
    "Make sure to install: debootstrap, schroot.\n",
    "\n",
    "You can install them with:\n",
    "\n",
    "```sh\n",
    "sudo apt install debootstrap\n",
    "sudo apt install schroot\n",
    "```\n",
    "\n",
    "You need a local Linux user - in this tutorial, mine is called ```chris```.\n",
    "\n",
    "And you also need a github account, and an [authentication token](https://docs.github.com/en/authentication/keeping-your-account-and-data-secure/creating-a-personal-access-token) already configured.\n"
   ]
  },
  {
   "cell_type": "markdown",
   "metadata": {},
   "source": [
    "## Create a chroot environment"
   ]
  },
  {
   "cell_type": "markdown",
   "metadata": {},
   "source": [
    "### Initiate the chroot with debootstrap"
   ]
  },
  {
   "cell_type": "markdown",
   "metadata": {},
   "source": [
    "You will first create a clean chroot environment. A chroot is an isolated linux environment where packages are installed independently of the main operating system packages. Whatever is installed in the chroot will not contaminate your main operating system.\n",
    "\n",
    "::: {.callout-note}\n",
    "If you want to know more about chroot, you can read the [wikipedia article](https://en.wikipedia.org/wiki/Chroot).\n",
    ":::\n",
    "\n",
    "```sh\n",
    "sudo debootstrap jammy nbdev\n",
    "```"
   ]
  },
  {
   "cell_type": "markdown",
   "metadata": {},
   "source": [
    "### Mount bind OS folder\n",
    "\n",
    "Bind mount dev, proc and sys in the chroot env:\n",
    "\n",
    "```sh\n",
    "sudo mount --rbind /dev ~/mychroots/nbdev/dev\n",
    "sudo mount --rbind /proc ~/mychroots/nbdev/proc\n",
    "sudo mount --rbind /sys ~/mychroots/nbdev/sys\n",
    "```\n"
   ]
  },
  {
   "cell_type": "markdown",
   "metadata": {},
   "source": [
    "### Copy apt source configuration \n",
    "\n",
    "Copy the sources apt repo to the chroot env:\n",
    "\n",
    "```sh\n",
    "sudo cp /etc/apt/sources.list ~/mychroots/nbdev/etc/apt/sources.list\n",
    "```\n",
    "\n",
    "You will be able to install any package in the chroot environment from the repository list."
   ]
  },
  {
   "cell_type": "markdown",
   "metadata": {},
   "source": [
    "### Edit schroot configuration\n",
    "\n",
    "Edit schroot configuration as follows for the new chroot environment:\n",
    "\n",
    "```sh\n",
    "sudo vi /etc/schroot/schroot.conf\n",
    "```\n",
    "```\n",
    "[nbdev]\n",
    "description=nbdev - Jammy\n",
    "directory=/home/chris/mychroots/nbdev1\n",
    "users=chris\n",
    "root-groups=root\n",
    "```"
   ]
  },
  {
   "cell_type": "markdown",
   "metadata": {},
   "source": [
    "### Configure the user in the chroot environment\n",
    "\n",
    "Create the first user (I recommend to use the same user as the one doing the schroot in the mother environment) and add it to sudoers.\n",
    "For convenience, I configure it to run without password when doing sudo:\n",
    "\n",
    "```sh\n",
    "adduser chris\n",
    "usermod -aG sudo chris\n",
    "visudo\n",
    "```\n",
    "Add the following line:\n",
    "```\n",
    "\t  chris ALL=(ALL) NOPASSWD:ALL\n",
    "```\n",
    "\n",
    "Now you are done with the chroot environment ! \n",
    "\n",
    "You can simply enter the chroot environment with your user as follows:\n",
    "\n",
    "```sh\n",
    "schroot -c nbdev --directory /home/chris\n",
    "```\n",
    "\n",
    "To exit the environment, type simply:\n",
    "```sh\n",
    "exit\n",
    "```"
   ]
  },
  {
   "cell_type": "markdown",
   "metadata": {},
   "source": [
    "## Packages Installation"
   ]
  },
  {
   "cell_type": "markdown",
   "metadata": {},
   "source": [
    "### Upgrade\n",
    "\n",
    "You start by upgrading your local packages with the latest updates:\n",
    "\n",
    "```sh\n",
    "sudo apt update\n",
    "sudo apt upgrade\n",
    "```"
   ]
  },
  {
   "cell_type": "markdown",
   "metadata": {},
   "source": [
    "### Packages installation\n",
    "\n",
    "Then, you install the new packages needed for your environment:\n",
    "\n",
    "```sh\n",
    "sudo apt install python3-pip python3-venv git\n",
    "```"
   ]
  },
  {
   "cell_type": "markdown",
   "metadata": {},
   "source": [
    "### Install github client\n",
    "\n",
    "You have to copy and paste the following command:\n",
    "\n",
    "```sh\n",
    "type -p curl >/dev/null || sudo apt install curl -y\n",
    "curl -fsSL https://cli.github.com/packages/githubcli-archive-keyring.gpg | sudo dd of=/usr/share/keyrings/githubcli-archive-keyring.gpg \\\n",
    "&& sudo chmod go+r /usr/share/keyrings/githubcli-archive-keyring.gpg \\\n",
    "&& echo \"deb [arch=$(dpkg --print-architecture) signed-by=/usr/share/keyrings/githubcli-archive-keyring.gpg] https://cli.github.com/packages stable main\" | sudo tee /etc/apt/sources.list.d/github-cli.list > /dev/null \\\n",
    "&& sudo apt update \\\n",
    "&& sudo apt install gh -y\n",
    "```"
   ]
  },
  {
   "cell_type": "markdown",
   "metadata": {},
   "source": [
    "## Configure git and github"
   ]
  },
  {
   "cell_type": "markdown",
   "metadata": {},
   "source": [
    "### Git configuration\n",
    "\n",
    "For git, you configure your user name and email - so that your commit messages include the right author:\n",
    "\n",
    "```sh\n",
    "git config --global user.email YOUR_EMAIL\n",
    "git config --global user.name YOUR_NAME\n",
    "```"
   ]
  },
  {
   "cell_type": "markdown",
   "metadata": {},
   "source": [
    "### Github configuration\n",
    "\n",
    "For Github, you need to register your authentication token.\n",
    "\n",
    "```\n",
    "gh auth login\n",
    "```\n",
    "\n",
    "Follow the prompts, select ```Github.com``` and as method for authentication: ```with authentication token```.\n",
    "\n",
    "Note that your authentication token will expire after some time, and you will need to configure again your github access from time to time."
   ]
  },
  {
   "cell_type": "markdown",
   "metadata": {},
   "source": [
    "## Install your Python virtual environment\n",
    "\n",
    "Still inside the chroot environment, cd to your home directory, and build a python virtual environment. Then install ```jupyter, jupyter_contrib_nbextensions, jupyterthemes``` and ```nbdev```\n",
    "\n",
    "```sh\n",
    "cd\n",
    "mkdir pyenv\n",
    "cd pyenv\n",
    "python3 -m venv nbenv\n",
    "source nbenv/bin/activate\n",
    "python3 -m pip install jupyter jupyter_contrib_nbextensions jupyterthemes nbdev\n",
    "```"
   ]
  },
  {
   "cell_type": "markdown",
   "metadata": {},
   "source": [
    "## Configure Jupyter notebook\n",
    "\n",
    "You then enable 2 useful jupyter notebook extensions:\n",
    "\n",
    "```sh\n",
    "jupyter nbextension enable collapsible_headings/main\n",
    "jupyter nbextension enable toc2/main\n",
    "```\n",
    "\n",
    "And you enable a Jupyter dark theme - I like ```cheterish```:\n",
    "\n",
    "```sh\n",
    "jt -t chesterish\n",
    "```"
   ]
  },
  {
   "cell_type": "markdown",
   "metadata": {},
   "source": [
    "## Your first nbdev project\n"
   ]
  },
  {
   "cell_type": "markdown",
   "metadata": {},
   "source": [
    "### Initiate your github repository\n",
    "\n",
    "You create a new github repository. \n",
    "Once this is done, copy its HTTPS clone url.\n",
    "\n",
    "Clone your repository in your development environment:\n",
    "\n",
    "```sh\n",
    "git clone YOUR_REPOSITORY_HTTPS_URL\n",
    "```"
   ]
  },
  {
   "cell_type": "markdown",
   "metadata": {},
   "source": [
    "### Configure the nbdev environment\n",
    "\n",
    "Now you can set-up the initial nbdev environment with:\n",
    "\n",
    "```sh\n",
    "nbdev_new\n",
    "nbdev_install_hooks\n",
    "git add .\n",
    "git commit -m 'Creation'\n",
    "git push\n",
    "```"
   ]
  },
  {
   "cell_type": "markdown",
   "metadata": {},
   "source": [
    "### Open the Jupyter notebook\n",
    "\n",
    "Within your project folder structure, you can start Jupyter and start working with the notebook in the ```nbs``` folder:\n",
    "\n",
    "```sh\n",
    "jupyter notebook nbs/\n",
    "```"
   ]
  },
  {
   "cell_type": "markdown",
   "metadata": {},
   "source": [
    "## Congratulations \n",
    "\n",
    "Congratulations you have a working nbdev environment in a completely isolated environment with chroot and python virtual environment ! You can now enjoy the power of Jupyter notebooks and nbdev library."
   ]
  },
  {
   "cell_type": "markdown",
   "metadata": {},
   "source": [
    "## Next Steps\n",
    "\n",
    "You can now continue with the [nbdev walkthough](https://nbdev.fast.ai/tutorials/tutorial.html). \n",
    "\n",
    "You can explore the nbdev features: github pages workflow integration, pypi integration, etc.\n",
    "\n",
    "Enjoy coding with nbdev !"
   ]
  }
 ],
 "metadata": {
  "kernelspec": {
   "display_name": "Python 3 (ipykernel)",
   "language": "python",
   "name": "python3"
  }
 },
 "nbformat": 4,
 "nbformat_minor": 4
}
